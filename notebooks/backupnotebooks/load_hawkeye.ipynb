{
 "cells": [
  {
   "cell_type": "code",
   "execution_count": 18,
   "metadata": {},
   "outputs": [],
   "source": [
    "#Adds one second and converts to statsbomb - test file as a backup\n",
    "import pandas as pd\n",
    "import numpy as np\n",
    "from os import listdir\n",
    "from os.path import isfile, join\n",
    "import re\n",
    "game_dir = \"/home/lz80/rdf/sp161/shared/soccer-decision-making/HawkEye/HawkeyeUnzipped/\"\n",
    "games = pd.read_json(\"/home/lz80/rdf/sp161/shared/soccer-decision-making/womens_euro_receipts/matches/53/106.json\", convert_dates = False)\n",
    "games['home_team'] = games.apply(lambda d: d['home_team']['home_team_name'], axis = 1).str.replace(\"Women's\", \"\").str.replace(\"WNT\", \"\").str.strip()\n",
    "games['away_team'] = games.apply(lambda d: d['away_team']['away_team_name'], axis = 1).str.replace(\"Women's\", \"\").str.replace(\"WNT\", \"\").str.strip()\n",
    "#dirfiles = [f for f in listdir(dir_path) if isfile(join(dir_path, f))]\n",
    "dirfiles = [f for f in listdir(game_dir) if not f.startswith('.')]\n",
    "matches_map = {}\n",
    "for game in dirfiles:\n",
    "    home_team = game.split('_')[1]\n",
    "    away_team = game.split('_')[2]\n",
    "    #print(games['away_team'])\n",
    "    game_id = games[(games['home_team'] == home_team) & (games['away_team'] == away_team)].reset_index().loc[0]['match_id']\n",
    "    matches_map[game] = game_id"
   ]
  },
  {
   "cell_type": "code",
   "execution_count": 19,
   "metadata": {},
   "outputs": [
    {
     "data": {
      "text/plain": [
       "{'2032235_Germany_France': 3845507,\n",
       " '2032215_Germany_Spain': 3835330,\n",
       " '2032216_Finland_Germany': 3835338,\n",
       " '2032231_Germany_Austria': 3844385,\n",
       " '2032213_Germany_Denmark': 3835322,\n",
       " '2032236_England_Germany': 3847567}"
      ]
     },
     "execution_count": 19,
     "metadata": {},
     "output_type": "execute_result"
    }
   ],
   "source": [
    "matches_map"
   ]
  },
  {
   "cell_type": "code",
   "execution_count": 20,
   "metadata": {},
   "outputs": [],
   "source": [
    "def convert_pos(coords, needConvert):\n",
    "    \"\"\"\n",
    "    Convert to statsbomb coords\n",
    "    1. Need to convert from meters to yards - done\n",
    "    2. Flip and resize such that HawkEye coord system goes to statsbomb coord. system\n",
    "    3. Flip x axis if needed - dependending on GK location - done\n",
    "    \"\"\"\n",
    "    x, y = coords\n",
    "    x = x * (60 / 52.5) + 60#step 1\n",
    "    y = y * (40 / 43) + 40#not perfect but this is probably the closest we will get - make sure to change this in og buli code too\n",
    "    #convert to statsbomb coord system here...\n",
    "    y = 80 - y#step 2\n",
    "    if needConvert:\n",
    "        x = 120 - x\n",
    "    return [x, y]"
   ]
  },
  {
   "cell_type": "code",
   "execution_count": 21,
   "metadata": {},
   "outputs": [],
   "source": [
    "def read_player_loc(file_path, period, minute, second, team,actor, action_id, max_second = None):\n",
    "    player_df_all = pd.read_json(file_path, lines = True, orient = 'columns')\n",
    "    player_dict = player_df_all['samples'].loc[0]['people']\n",
    "    player_df = pd.DataFrame(player_dict)#['centroid'].loc[0][0]\n",
    "    player_df['time'] = player_df.apply(lambda d: d['centroid'][0]['time'], axis = 1)\n",
    "    player_df = player_df.sort_values(by = ['time'])\n",
    "    if not max_second:\n",
    "        max_second = second + 1\n",
    "    player_df = player_df[(player_df['time'] > second) & (player_df['time'] < max_second)]\n",
    "    player_df['period'] = period\n",
    "    player_df['minute'] = minute\n",
    "    player_df['pos'] = player_df.apply(lambda d: d['centroid'][0]['pos'], axis = 1)\n",
    "    player_df['statsbombid'] = player_df.apply(lambda d: d['personId']['uefaId'], axis = 1).astype(int).map(uefa_map)\n",
    "    player_df = player_df.dropna()\n",
    "    player_df['team'] = player_df['statsbombid'].astype(int).map(player_to_team)\n",
    "    player_df['teammate'] = np.where(player_df['team'] == team, True, False) \n",
    "    player_df['isGK'] = np.where(player_df['statsbombid'].isin(goalkeepers), True, False)\n",
    "    player_df['isActor'] = np.where(player_df['statsbombid'].astype(int) == actor, True, False)\n",
    "    if player_df[(player_df['isGK']) & (player_df['teammate'])].reset_index(drop = True).loc[0]['pos'][0] > 0:#gotta be a better way to do this...\n",
    "        player_df['NeedsFlip'] = True\n",
    "    else:\n",
    "        player_df['NeedsFlip'] = False\n",
    "    #convert pos here\n",
    "    player_df['conv_pos'] = player_df.apply(lambda row: convert_pos(row['pos'], row['NeedsFlip']), axis=1)\n",
    "    player_df['freeze_frame'] = player_df.apply(lambda d: {'teammate':d['teammate'], 'keeper':d['isGK'], 'actor':d['isActor'], \n",
    "    'location':d['conv_pos']}, axis = 1)\n",
    "    player_df['frameNum'] = player_df['time'].ne(player_df['time'].shift()).cumsum()\n",
    "    player_df[\"event_uuid\"]  = action_id + \"-\" + player_df['frameNum'].astype(str)\n",
    "    player_df[\"visible_area\"] = [[0,0, 120, 0, 120, 80, 0, 80, 0,0]] * player_df.shape[0]\n",
    "    return player_df[['event_uuid', 'visible_area', 'freeze_frame']].reset_index(drop = True)\n",
    "    #return player_df#.dropna()"
   ]
  },
  {
   "cell_type": "code",
   "execution_count": 22,
   "metadata": {},
   "outputs": [],
   "source": [
    "def convert_to_360(df, idx):\n",
    "    row = df.loc[idx]\n",
    "    action_id = row['id']\n",
    "    team = row['team']['id']\n",
    "    period = row['period']\n",
    "    time = row['timestamp']\n",
    "    actor = row['player']['id']\n",
    "    time_split = time.split(\":\")\n",
    "    minute = int(time_split[-2]) + 1\n",
    "    second = float(time_split[-1])\n",
    "\n",
    "    player_loc_path = f\"{player_tracking_dir}{file_path_begin}_{str(period)}_{str(minute)}.football.samples.centroids\"\n",
    "    #print(player_loc_path)\n",
    "    player_df = read_player_loc(player_loc_path, period, minute, second, team, actor, action_id)\n",
    "    all_dfs = [player_df]\n",
    "    if(second > 59):\n",
    "        print(\"Goes to next minute...\")\n",
    "        player_loc_path = f\"{player_tracking_dir}{file_path_begin}_{str(period)}_{str(minute + 1)}.football.samples.centroids\"\n",
    "        player_df = read_player_loc(player_loc_path, period, minute, 0, team,actor, action_id, 60 - second)\n",
    "        all_dfs.append(player_df)\n",
    "    all_player_locs = pd.concat(all_dfs)\n",
    "    return all_player_locs"
   ]
  },
  {
   "cell_type": "code",
   "execution_count": 23,
   "metadata": {},
   "outputs": [],
   "source": [
    "#Next TODO: load event data\n",
    "\"\"\"\n",
    "General thought process:\n",
    "1. Get number of frames(number of \"passes\" to add for each event) - call this number n\n",
    "2. Right below the pass receipt, add n identical passes with the same values except the id will be og_id-k where k is the frame number\n",
    "Will time be a problem? maybe problems with time\n",
    "can use .loc[n.1] and then reset_index() maybe?\n",
    "maybe use timestamp? concat and then sort by timestamp and period\n",
    "\"\"\"\n",
    "#events_df\n",
    "def concat_event_data(num_frames, idx, event_df):\n",
    "    row = event_df.loc[idx]\n",
    "    action_id = row['id']\n",
    "    df_to_add = pd.DataFrame([row] * num_frames)\n",
    "    df_to_add['id'] = [f\"{action_id}-{frame}\" for frame in range(1,num_frames+1)]\n",
    "    #print(df_to_add.columns)\n",
    "    new_df = pd.concat([event_df, df_to_add]).sort_values(by = ['period', 'timestamp'])#.reset_index()\n",
    "    return new_df"
   ]
  },
  {
   "cell_type": "code",
   "execution_count": 24,
   "metadata": {},
   "outputs": [],
   "source": [
    "def save_to_json(path, df):\n",
    "    json_str = df.to_json(orient='records')\n",
    "    json_data = json.loads(json_str)\n",
    "    #cleaned_data = remove_nan(json_data)\n",
    "\n",
    "    # Save to a file\n",
    "    with open(path, 'w') as json_file:\n",
    "        json.dump(json_str, json_file, indent=2)"
   ]
  },
  {
   "cell_type": "code",
   "execution_count": 25,
   "metadata": {},
   "outputs": [],
   "source": [
    "def get_frames(match, output_dir):\n",
    "    game_id = matches_map[match]\n",
    "    events_dir = f'/home/lz80/rdf/sp161/shared/soccer-decision-making/womens_euro_receipts/events/{game_id}.json'\n",
    "    three_sixty_dir = f'/home/lz80/rdf/sp161/shared/soccer-decision-making/womens_euro_receipts/three-sixty/{game_id}.json'\n",
    "    ball_dir = f\"/home/lz80/rdf/sp161/shared/soccer-decision-making/HawkEye/HawkeyeUnzipped/{match}/{match}ball_loc.json\"\n",
    "    lineups = f\"/home/lz80/rdf/sp161/shared/soccer-decision-making/womens_euro_receipts/lineups/{game_id}.json\"\n",
    "    #player_tracking_dir = f\"/home/lz80/rdf/sp161/shared/soccer-decision-making/HawkEye/HawkeyeUnzipped/{sample_match}/{sample_match}player_loc.json\"\n",
    "    global player_tracking_dir\n",
    "    global player_to_team\n",
    "    global file_path_begin\n",
    "    global goalkeepers\n",
    "    global ball_locs\n",
    "    player_tracking_dir = f\"/home/lz80/rdf/sp161/shared/soccer-decision-making/HawkEye/HawkeyeUnzipped/{match}/scrubbed.samples.centroids/\"\n",
    "    event_output_dir = f\"{output_dir}/events_added/{game_id}.json\"\n",
    "    three_sixty_output = f\"{output_dir}/three-sixty_added/{game_id}.json\"\n",
    "    events_df = pd.read_json(events_dir, convert_dates = False)\n",
    "    three_sixty_df = pd.read_json(three_sixty_dir, convert_dates = False)\n",
    "    ball_locs = pd.read_json(ball_dir, convert_dates = False)\n",
    "    lineup_df = pd.read_json(lineups, convert_dates = False)\n",
    "    dirfiles = [f for f in listdir(player_tracking_dir) if not f.startswith('.')]\n",
    "    sample_file = dirfiles[0]\n",
    "    file_path_begin = \"_\".join(sample_file.split('_')[0:3])\n",
    "    #player_locs = pd.read_json(player_tracking_dir, convert_dates = False)\n",
    "    #player_locs['added_time'] = player_locs['added_time'].fillna(0)\n",
    "    ball_locs['added_time'] = ball_locs['added_time'].fillna(0)\n",
    "    team_1 = lineup_df['team_id'].loc[0]\n",
    "    team_2 = lineup_df['team_id'].loc[1]\n",
    "    team_1_dict = lineup_df['lineup'].loc[0]\n",
    "    team_2_dict = lineup_df['lineup'].loc[1]\n",
    "    team_1_lineup = [player_dict['player_id'] for player_dict in team_1_dict]\n",
    "    team_2_lineup = [player_dict['player_id'] for player_dict in team_2_dict]\n",
    "    team_map = {team_1 : team_1_lineup, team_2 : team_2_lineup}\n",
    "    player_to_team = {player_id: team_id for team_id, players in team_map.items() for player_id in players}\n",
    "    pos_dict = {player['player_id']: player['positions'][0]['position'] for player in team_1_dict if len(player['positions']) > 0}\n",
    "    team_2_pos_dict = {player['player_id']: player['positions'][0]['position'] for player in team_2_dict if len(player['positions']) > 0}\n",
    "    pos_dict.update(team_2_pos_dict)\n",
    "    goalkeepers = [key for (key,value) in pos_dict.items() if value == \"Goalkeeper\"]\n",
    "    needs_converting = events_df[events_df['pass'].notna()].index\n",
    "    counter = 1\n",
    "    for idx in needs_converting:\n",
    "        print(f\"\\r{counter}/{needs_converting.shape[0]}\",end = \"\", flush=True)\n",
    "        counter = counter + 1\n",
    "        new_360 = convert_to_360(events_df, idx)\n",
    "        events_df = concat_event_data(new_360.shape[0], idx, events_df)\n",
    "        three_sixty_df = pd.concat([three_sixty_df, new_360])\n",
    "    save_to_json(events_df, event_output_dir)\n",
    "    save_to_json(three_sixty_df, three_sixty_output)\n",
    "    \n",
    "    \n",
    "    \n"
   ]
  },
  {
   "cell_type": "code",
   "execution_count": null,
   "metadata": {},
   "outputs": [
    {
     "name": "stdout",
     "output_type": "stream",
     "text": [
      "13/774"
     ]
    },
    {
     "name": "stderr",
     "output_type": "stream",
     "text": [
      "Exception ignored in: <bound method IPythonKernel._clean_thread_parent_frames of <ipykernel.ipkernel.IPythonKernel object at 0x7f52499cb640>>\n",
      "Traceback (most recent call last):\n",
      "  File \"/home/lz80/un-xPass/.venv/lib/python3.10/site-packages/ipykernel/ipkernel.py\", line 775, in _clean_thread_parent_frames\n",
      "    def _clean_thread_parent_frames(\n",
      "KeyboardInterrupt: \n"
     ]
    },
    {
     "name": "stdout",
     "output_type": "stream",
     "text": [
      "24/774"
     ]
    }
   ],
   "source": [
    "output_dir = \"/home/lz80/rdf/sp161/shared/soccer-decision-making/hawkeye_one_game\"\n",
    "sample_match = '2032213_Germany_Denmark'\n",
    "uefa_map = pd.read_csv(\"/home/lz80/un-xPass/unxpass/steffen/ID_matched.csv\").set_index('ID').to_dict()['player_id']\n",
    "get_frames(sample_match, output_dir)"
   ]
  }
 ],
 "metadata": {
  "kernelspec": {
   "display_name": ".venv",
   "language": "python",
   "name": "python3"
  },
  "language_info": {
   "codemirror_mode": {
    "name": "ipython",
    "version": 3
   },
   "file_extension": ".py",
   "mimetype": "text/x-python",
   "name": "python",
   "nbconvert_exporter": "python",
   "pygments_lexer": "ipython3",
   "version": "3.10.12"
  }
 },
 "nbformat": 4,
 "nbformat_minor": 2
}
