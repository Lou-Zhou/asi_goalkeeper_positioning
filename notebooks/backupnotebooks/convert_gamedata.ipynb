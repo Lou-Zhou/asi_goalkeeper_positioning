{
 "cells": [
  {
   "cell_type": "code",
   "execution_count": 2,
   "metadata": {},
   "outputs": [],
   "source": [
    "#Converts buli game data to hawkeye - backup file\n",
    "import pandas as pd\n",
    "needed = {\"match_id\": \"NullError\", \"match_date\": \"NullError\", \n",
    "          \"kick_off\": \"No Change\", \"competition\": \"NullError\", \"season\": \"NullError\",\n",
    "            \"home_team\": \"NullError\", \"away_team\": \"NullError\",\n",
    "           \"home_score\": \"No Change\", \n",
    "          \"away_score\": \"No Change\", \"match_status\": \"No Change\", \"match_status_360\": \n",
    "          \"No Change\", \"last_updated\": \"No Change\", \"last_updated_360\": \"No Change\",\n",
    "          \"metadata\": \"No Change\", \"match_week\": \"No Change\", \"competition_stage\": \"No Change\",\n",
    "            \"stadium\": \"No Change\", \"referee\": \"No Change\"}\n",
    "given_gamedata = pd.read_csv(\"/home/lz80/un-xPass/stores/bulidata/matches_DFL-SEA-0001K7.csv\", encoding='latin-1', on_bad_lines='skip')\n",
    "statsbomb_gamedata = pd.read_json(\"/home/lz80/un-xPass/stores/bulidata/43.json\")"
   ]
  },
  {
   "cell_type": "code",
   "execution_count": 3,
   "metadata": {},
   "outputs": [
    {
     "data": {
      "text/plain": [
       "['match_id', 'match_date', 'competition', 'season', 'home_team', 'away_team']"
      ]
     },
     "execution_count": 3,
     "metadata": {},
     "output_type": "execute_result"
    }
   ],
   "source": [
    "nulls = []\n",
    "nochange = []\n",
    "for col in needed:\n",
    "    if needed[col] == \"NullError\":\n",
    "        nulls.append(col)\n",
    "    else:\n",
    "        nochange.append(col)\n",
    "nulls"
   ]
  },
  {
   "cell_type": "code",
   "execution_count": 27,
   "metadata": {},
   "outputs": [
    {
     "name": "stderr",
     "output_type": "stream",
     "text": [
      "/tmp/ipykernel_153318/1674012973.py:12: SettingWithCopyWarning: \n",
      "A value is trying to be set on a copy of a slice from a DataFrame.\n",
      "Try using .loc[row_indexer,col_indexer] = value instead\n",
      "\n",
      "See the caveats in the documentation: https://pandas.pydata.org/pandas-docs/stable/user_guide/indexing.html#returning-a-view-versus-a-copy\n",
      "  gamedata_converted[\"match_date\"] = gamedata_converted[\"match_date\"].astype(str)\n"
     ]
    }
   ],
   "source": [
    "\"\"\"convert matches\"\"\"\n",
    "given_gamedata[\"match_id\"] = given_gamedata[\"MatchId\"]\n",
    "given_gamedata[\"match_date\"] = pd.to_datetime(given_gamedata[\"StartDate\"]).dt.date\n",
    "given_gamedata[\"competition\"] = [{'competition_id': 9,\n",
    " 'country_name': 'Germany',\n",
    " 'competition_name': '1. Bundesliga'}] * given_gamedata.shape[0]\n",
    "given_gamedata[\"season\"] = [{'season_id': 281, 'season_name': '2023/2024'}] * given_gamedata.shape[0]\n",
    "given_gamedata[\"home_team\"] = given_gamedata.apply(lambda d: {\"home_team_id\":d[\"HomeTeamId\"]}, axis = 1)\n",
    "given_gamedata[\"away_team\"] = given_gamedata.apply(lambda d: {\"away_team_id\":d[\"GuestTeamId\"]}, axis = 1)\n",
    "given_gamedata[nochange] = None\n",
    "gamedata_converted = given_gamedata[statsbomb_gamedata.columns]\n",
    "gamedata_converted[\"match_date\"] = gamedata_converted[\"match_date\"].astype(str)\n"
   ]
  },
  {
   "cell_type": "code",
   "execution_count": 5,
   "metadata": {},
   "outputs": [],
   "source": [
    "import xml.etree.ElementTree as ET\n",
    "import pandas as pd\n",
    "\n",
    "def load_players(path, to_dict):\n",
    "    tree = ET.parse(path)  # Replace with your XML file path\n",
    "    root = tree.getroot()\n",
    "\n",
    "    data = []\n",
    "    for root_elem in root.findall('.//Team'):\n",
    "        TeamName = root_elem.attrib.get('TeamName')\n",
    "        Formation = root_elem.attrib.get('LineUp')\n",
    "        TeamId = root_elem.attrib.get('TeamId')\n",
    "        Role = root_elem.attrib.get('Role')\n",
    "        for elem in root_elem.findall('.//Player'):  \n",
    "            entry = {}\n",
    "            entry = {\n",
    "                    \"Role\": Role,\n",
    "                    \"TeamName\": TeamName,\n",
    "                    \"TeamId\": TeamId,\n",
    "                    \"Formation\":Formation,\n",
    "                    #\"PersonId\": PersonId,\n",
    "                    \"Starting\": elem.attrib.get('Starting'),\n",
    "                    'PersonId': elem.attrib.get('PersonId'),\n",
    "                    'FirstName': elem.attrib.get('FirstName'),\n",
    "                    'LastName': elem.attrib.get('LastName'),\n",
    "                    'PlayingPosition': elem.attrib.get('PlayingPosition'),\n",
    "                    'ShirtNumber':elem.attrib.get('ShirtNumber')\n",
    "            }\n",
    "            data.append(entry)\n",
    "\n",
    "    df = pd.DataFrame(data)\n",
    "    if to_dict:\n",
    "        df = pd.Series(df[\"PlayingPosition\"].values,index=df[\"PersonId\"]).to_dict()\n",
    "    return df\n"
   ]
  },
  {
   "cell_type": "code",
   "execution_count": 6,
   "metadata": {},
   "outputs": [
    {
     "data": {
      "text/plain": [
       "\"\\nCompetition: {'competition_id': 9,\\n 'country_name': 'Germany',\\n 'competition_name': '1. Bundesliga'}\\n season: {'season_id': 281, 'season_name': '2023/2024'}\\n\""
      ]
     },
     "execution_count": 6,
     "metadata": {},
     "output_type": "execute_result"
    }
   ],
   "source": [
    "\"\"\"\n",
    "Competition: {'competition_id': 9,\n",
    " 'country_name': 'Germany',\n",
    " 'competition_name': '1. Bundesliga'}\n",
    " season: {'season_id': 281, 'season_name': '2023/2024'}\n",
    "\"\"\""
   ]
  },
  {
   "cell_type": "code",
   "execution_count": 7,
   "metadata": {},
   "outputs": [],
   "source": [
    "#lineups: ['player_id', 'player_name', 'player_nickname', 'jersey_number']\n",
    "lineups_sb = pd.read_json(\"/home/lz80/un-xPass/stores/bulidata/3795506-lineups.json\")\n",
    "players_buli = load_players(\"/home/lz80/un-xPass/stores/bulidata/DFL-MAT-J03YDU-players.xml\", False)\n",
    "#player_id - num/str, player_name - str, player_nickname: None, jersey_number - int\n"
   ]
  },
  {
   "cell_type": "code",
   "execution_count": 8,
   "metadata": {},
   "outputs": [
    {
     "data": {
      "text/html": [
       "<div>\n",
       "<style scoped>\n",
       "    .dataframe tbody tr th:only-of-type {\n",
       "        vertical-align: middle;\n",
       "    }\n",
       "\n",
       "    .dataframe tbody tr th {\n",
       "        vertical-align: top;\n",
       "    }\n",
       "\n",
       "    .dataframe thead th {\n",
       "        text-align: right;\n",
       "    }\n",
       "</style>\n",
       "<table border=\"1\" class=\"dataframe\">\n",
       "  <thead>\n",
       "    <tr style=\"text-align: right;\">\n",
       "      <th></th>\n",
       "      <th>team_id</th>\n",
       "      <th>team_name</th>\n",
       "      <th>lineup</th>\n",
       "    </tr>\n",
       "  </thead>\n",
       "  <tbody>\n",
       "    <tr>\n",
       "      <th>0</th>\n",
       "      <td>DFL-CLU-00000G</td>\n",
       "      <td>FC Bayern München</td>\n",
       "      <td>[{'player_id': 'DFL-OBJ-0000LT', 'player_name'...</td>\n",
       "    </tr>\n",
       "    <tr>\n",
       "      <th>1</th>\n",
       "      <td>DFL-CLU-00000E</td>\n",
       "      <td>SV Werder Bremen</td>\n",
       "      <td>[{'player_id': 'DFL-OBJ-0000ZM', 'player_name'...</td>\n",
       "    </tr>\n",
       "  </tbody>\n",
       "</table>\n",
       "</div>"
      ],
      "text/plain": [
       "          team_id          team_name  \\\n",
       "0  DFL-CLU-00000G  FC Bayern München   \n",
       "1  DFL-CLU-00000E   SV Werder Bremen   \n",
       "\n",
       "                                              lineup  \n",
       "0  [{'player_id': 'DFL-OBJ-0000LT', 'player_name'...  \n",
       "1  [{'player_id': 'DFL-OBJ-0000ZM', 'player_name'...  "
      ]
     },
     "execution_count": 8,
     "metadata": {},
     "output_type": "execute_result"
    }
   ],
   "source": [
    "\"\"\"\n",
    "Lineup Conversion\n",
    "\"\"\"\n",
    "players_buli[\"player_dict\"] = players_buli.apply(lambda d: {\"player_id\":d[\"PersonId\"], \"player_name\":d[\"FirstName\"] + \" \" + d[\"LastName\"], \"player_nickname\":None, \"jersey_number\": int(d[\"ShirtNumber\"])}, axis = 1)\n",
    "team1 = players_buli[\"TeamId\"].unique()[0]\n",
    "team2 = players_buli[\"TeamId\"].unique()[1]\n",
    "team1_name = players_buli[players_buli[\"TeamId\"] == team1][\"TeamName\"].reset_index(drop = True).loc[0]\n",
    "team2_name = players_buli[players_buli[\"TeamId\"] == team2][\"TeamName\"].reset_index(drop = True).loc[0]\n",
    "team1_lineup = list(players_buli[players_buli[\"TeamId\"]== team1][\"player_dict\"])\n",
    "team2_lineup = list(players_buli[players_buli[\"TeamId\"]== team2][\"player_dict\"])\n",
    "lineups_converted = pd.DataFrame()\n",
    "lineups_converted[\"team_id\"] = [team1, team2]\n",
    "lineups_converted[\"team_name\"] = [team1_name, team2_name]\n",
    "lineups_converted[\"lineup\"] = [team1_lineup, team2_lineup]\n",
    "lineups_converted\n"
   ]
  },
  {
   "cell_type": "code",
   "execution_count": 28,
   "metadata": {},
   "outputs": [],
   "source": [
    "import json\n",
    "def convert_to_json(df, path):\n",
    "        json_str = df.to_json(orient='records')\n",
    "        json_data = json.loads(json_str)\n",
    "        cleaned_data = json_data\n",
    "        with open(path, 'w') as json_file:\n",
    "                json.dump(cleaned_data, json_file, indent=2)\n",
    "convert_to_json(lineups_converted, \"/home/lz80/un-xPass/stores/bulidata/statsbombtest/lineups/DFL-MAT-J03YDU.json\")\n",
    "convert_to_json(gamedata_converted, \"/home/lz80/un-xPass/stores/bulidata/statsbombtest/matches/9/281.json\")"
   ]
  }
 ],
 "metadata": {
  "kernelspec": {
   "display_name": ".venv",
   "language": "python",
   "name": "python3"
  },
  "language_info": {
   "codemirror_mode": {
    "name": "ipython",
    "version": 3
   },
   "file_extension": ".py",
   "mimetype": "text/x-python",
   "name": "python",
   "nbconvert_exporter": "python",
   "pygments_lexer": "ipython3",
   "version": "3.10.12"
  }
 },
 "nbformat": 4,
 "nbformat_minor": 2
}
