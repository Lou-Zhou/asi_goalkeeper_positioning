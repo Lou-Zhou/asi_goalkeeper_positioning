{
 "cells": [
  {
   "cell_type": "markdown",
   "id": "03a55a9e",
   "metadata": {},
   "source": [
    "# Raw data preparation\n",
    "\n",
    "This notebook explains the data pre-processing pipeline on the public EURO 2020 dataset provided by StatsBomb. The following steps are performed:\n",
    "\n",
    "- Create a local SQlite database for storing the data\n",
    "- Convert StatsBomb events to SPADL actions\n",
    "- Store SPADL actions and metadata in SQLite database\n"
   ]
  },
  {
   "cell_type": "code",
   "execution_count": null,
   "id": "54b734c5",
   "metadata": {
    "tags": []
   },
   "outputs": [],
   "source": [
    "from pathlib import Path\n",
    "\"\"\"\n",
    "How does go from statsbomb to spadl?\n",
    "\"\"\"\n",
    "def _flatten_id(d):\n",
    "    newd = {}\n",
    "    extra = {}\n",
    "    for k, v in d.items():\n",
    "        if isinstance(v, dict):\n",
    "            if \"id\" in v and \"name\" in v:\n",
    "                newd[k + \"_id\"] = v[\"id\"]\n",
    "                newd[k + \"_name\"] = v[\"name\"]\n",
    "            else:\n",
    "                extra[k] = v\n",
    "        else:\n",
    "            newd[k] = v\n",
    "        print(newd)\n",
    "    newd[\"extra\"] = extra\n",
    "    return newd\n",
    "from statsbombpy import sb\n",
    "import pandas as pd\n",
    "obj = list(sb.events(3795107, fmt=\"dict\").values())\n",
    "eventsdf = pd.DataFrame(_flatten_id(e) for e in obj)\n",
    "eventsdf.columns"
   ]
  },
  {
   "cell_type": "code",
   "execution_count": 15,
   "id": "2899cc86",
   "metadata": {},
   "outputs": [
    {
     "name": "stderr",
     "output_type": "stream",
     "text": [
      "/home/lz80/un-xPass/.venv/lib/python3.10/site-packages/statsbombpy/api_client.py:21: NoAuthWarning: credentials were not supplied. open data access only\n",
      "  warnings.warn(\n",
      "/home/lz80/un-xPass/.venv/lib/python3.10/site-packages/statsbombpy/api_client.py:21: NoAuthWarning: credentials were not supplied. open data access only\n",
      "  warnings.warn(\n"
     ]
    },
    {
     "data": {
      "text/html": [
       "<div>\n",
       "<style scoped>\n",
       "    .dataframe tbody tr th:only-of-type {\n",
       "        vertical-align: middle;\n",
       "    }\n",
       "\n",
       "    .dataframe tbody tr th {\n",
       "        vertical-align: top;\n",
       "    }\n",
       "\n",
       "    .dataframe thead th {\n",
       "        text-align: right;\n",
       "    }\n",
       "</style>\n",
       "<table border=\"1\" class=\"dataframe\">\n",
       "  <thead>\n",
       "    <tr style=\"text-align: right;\">\n",
       "      <th></th>\n",
       "      <th>game_id</th>\n",
       "      <th>original_event_id</th>\n",
       "      <th>period_id</th>\n",
       "      <th>time_seconds</th>\n",
       "      <th>team_id</th>\n",
       "      <th>player_id</th>\n",
       "      <th>start_x</th>\n",
       "      <th>start_y</th>\n",
       "      <th>end_x</th>\n",
       "      <th>end_y</th>\n",
       "      <th>type_id</th>\n",
       "      <th>result_id</th>\n",
       "      <th>bodypart_id</th>\n",
       "      <th>action_id</th>\n",
       "    </tr>\n",
       "  </thead>\n",
       "  <tbody>\n",
       "    <tr>\n",
       "      <th>0</th>\n",
       "      <td>3795107</td>\n",
       "      <td>cac7b0b7-e051-4266-874a-37d5185c8a4e</td>\n",
       "      <td>1</td>\n",
       "      <td>1.0</td>\n",
       "      <td>782</td>\n",
       "      <td>3289.0</td>\n",
       "      <td>52.058824</td>\n",
       "      <td>34.430380</td>\n",
       "      <td>46.941176</td>\n",
       "      <td>37.615190</td>\n",
       "      <td>0</td>\n",
       "      <td>1</td>\n",
       "      <td>5</td>\n",
       "      <td>0</td>\n",
       "    </tr>\n",
       "    <tr>\n",
       "      <th>1</th>\n",
       "      <td>3795107</td>\n",
       "      <td>5c1ef827-e053-44f8-a0f0-b312a3ca093d</td>\n",
       "      <td>1</td>\n",
       "      <td>1.0</td>\n",
       "      <td>782</td>\n",
       "      <td>5642.0</td>\n",
       "      <td>46.941176</td>\n",
       "      <td>37.615190</td>\n",
       "      <td>44.470588</td>\n",
       "      <td>39.853165</td>\n",
       "      <td>21</td>\n",
       "      <td>1</td>\n",
       "      <td>0</td>\n",
       "      <td>1</td>\n",
       "    </tr>\n",
       "    <tr>\n",
       "      <th>2</th>\n",
       "      <td>3795107</td>\n",
       "      <td>ba26ec0b-3274-481c-90d1-c58bd71bc81f</td>\n",
       "      <td>1</td>\n",
       "      <td>2.0</td>\n",
       "      <td>782</td>\n",
       "      <td>5642.0</td>\n",
       "      <td>44.470588</td>\n",
       "      <td>39.853165</td>\n",
       "      <td>29.205882</td>\n",
       "      <td>53.797468</td>\n",
       "      <td>0</td>\n",
       "      <td>1</td>\n",
       "      <td>5</td>\n",
       "      <td>2</td>\n",
       "    </tr>\n",
       "    <tr>\n",
       "      <th>3</th>\n",
       "      <td>3795107</td>\n",
       "      <td>1783a21c-bb70-4353-bed4-5883f66a1f68</td>\n",
       "      <td>1</td>\n",
       "      <td>4.0</td>\n",
       "      <td>782</td>\n",
       "      <td>3077.0</td>\n",
       "      <td>29.205882</td>\n",
       "      <td>53.797468</td>\n",
       "      <td>28.235294</td>\n",
       "      <td>56.207595</td>\n",
       "      <td>21</td>\n",
       "      <td>1</td>\n",
       "      <td>0</td>\n",
       "      <td>3</td>\n",
       "    </tr>\n",
       "    <tr>\n",
       "      <th>4</th>\n",
       "      <td>3795107</td>\n",
       "      <td>f8b6772a-4272-4aa1-8eda-184d2a8248a8</td>\n",
       "      <td>1</td>\n",
       "      <td>6.0</td>\n",
       "      <td>782</td>\n",
       "      <td>3077.0</td>\n",
       "      <td>28.235294</td>\n",
       "      <td>56.207595</td>\n",
       "      <td>35.382353</td>\n",
       "      <td>67.483544</td>\n",
       "      <td>0</td>\n",
       "      <td>1</td>\n",
       "      <td>4</td>\n",
       "      <td>4</td>\n",
       "    </tr>\n",
       "    <tr>\n",
       "      <th>...</th>\n",
       "      <td>...</td>\n",
       "      <td>...</td>\n",
       "      <td>...</td>\n",
       "      <td>...</td>\n",
       "      <td>...</td>\n",
       "      <td>...</td>\n",
       "      <td>...</td>\n",
       "      <td>...</td>\n",
       "      <td>...</td>\n",
       "      <td>...</td>\n",
       "      <td>...</td>\n",
       "      <td>...</td>\n",
       "      <td>...</td>\n",
       "      <td>...</td>\n",
       "    </tr>\n",
       "    <tr>\n",
       "      <th>2193</th>\n",
       "      <td>3795107</td>\n",
       "      <td>91c6f928-680e-4f83-a003-4889a177efe8</td>\n",
       "      <td>2</td>\n",
       "      <td>3074.0</td>\n",
       "      <td>782</td>\n",
       "      <td>5632.0</td>\n",
       "      <td>101.029412</td>\n",
       "      <td>16.612658</td>\n",
       "      <td>101.294118</td>\n",
       "      <td>16.612658</td>\n",
       "      <td>21</td>\n",
       "      <td>1</td>\n",
       "      <td>0</td>\n",
       "      <td>2193</td>\n",
       "    </tr>\n",
       "    <tr>\n",
       "      <th>2194</th>\n",
       "      <td>3795107</td>\n",
       "      <td>6688f547-a021-41b1-a454-91ec7255c970</td>\n",
       "      <td>2</td>\n",
       "      <td>3074.0</td>\n",
       "      <td>782</td>\n",
       "      <td>5632.0</td>\n",
       "      <td>101.294118</td>\n",
       "      <td>16.612658</td>\n",
       "      <td>99.264706</td>\n",
       "      <td>27.372152</td>\n",
       "      <td>1</td>\n",
       "      <td>0</td>\n",
       "      <td>5</td>\n",
       "      <td>2194</td>\n",
       "    </tr>\n",
       "    <tr>\n",
       "      <th>2195</th>\n",
       "      <td>3795107</td>\n",
       "      <td>06d05275-9d28-41bf-8812-976814b2ec59</td>\n",
       "      <td>2</td>\n",
       "      <td>3074.0</td>\n",
       "      <td>914</td>\n",
       "      <td>6954.0</td>\n",
       "      <td>100.058824</td>\n",
       "      <td>26.597468</td>\n",
       "      <td>105.000000</td>\n",
       "      <td>0.000000</td>\n",
       "      <td>18</td>\n",
       "      <td>1</td>\n",
       "      <td>1</td>\n",
       "      <td>2195</td>\n",
       "    </tr>\n",
       "    <tr>\n",
       "      <th>2196</th>\n",
       "      <td>3795107</td>\n",
       "      <td>864e6afd-6772-4d61-875d-995d52ffc18a</td>\n",
       "      <td>2</td>\n",
       "      <td>3092.0</td>\n",
       "      <td>782</td>\n",
       "      <td>5630.0</td>\n",
       "      <td>105.000000</td>\n",
       "      <td>0.000000</td>\n",
       "      <td>99.529412</td>\n",
       "      <td>24.617722</td>\n",
       "      <td>5</td>\n",
       "      <td>1</td>\n",
       "      <td>5</td>\n",
       "      <td>2196</td>\n",
       "    </tr>\n",
       "    <tr>\n",
       "      <th>2197</th>\n",
       "      <td>3795107</td>\n",
       "      <td>a8e6467c-90ea-4fb3-9020-b47b2b5e7f2d</td>\n",
       "      <td>2</td>\n",
       "      <td>3093.0</td>\n",
       "      <td>782</td>\n",
       "      <td>6332.0</td>\n",
       "      <td>99.352941</td>\n",
       "      <td>24.617722</td>\n",
       "      <td>105.000000</td>\n",
       "      <td>42.607595</td>\n",
       "      <td>0</td>\n",
       "      <td>0</td>\n",
       "      <td>0</td>\n",
       "      <td>2197</td>\n",
       "    </tr>\n",
       "  </tbody>\n",
       "</table>\n",
       "<p>2198 rows × 14 columns</p>\n",
       "</div>"
      ],
      "text/plain": [
       "      game_id                     original_event_id  period_id  time_seconds  \\\n",
       "0     3795107  cac7b0b7-e051-4266-874a-37d5185c8a4e          1           1.0   \n",
       "1     3795107  5c1ef827-e053-44f8-a0f0-b312a3ca093d          1           1.0   \n",
       "2     3795107  ba26ec0b-3274-481c-90d1-c58bd71bc81f          1           2.0   \n",
       "3     3795107  1783a21c-bb70-4353-bed4-5883f66a1f68          1           4.0   \n",
       "4     3795107  f8b6772a-4272-4aa1-8eda-184d2a8248a8          1           6.0   \n",
       "...       ...                                   ...        ...           ...   \n",
       "2193  3795107  91c6f928-680e-4f83-a003-4889a177efe8          2        3074.0   \n",
       "2194  3795107  6688f547-a021-41b1-a454-91ec7255c970          2        3074.0   \n",
       "2195  3795107  06d05275-9d28-41bf-8812-976814b2ec59          2        3074.0   \n",
       "2196  3795107  864e6afd-6772-4d61-875d-995d52ffc18a          2        3092.0   \n",
       "2197  3795107  a8e6467c-90ea-4fb3-9020-b47b2b5e7f2d          2        3093.0   \n",
       "\n",
       "      team_id  player_id     start_x    start_y       end_x      end_y  \\\n",
       "0         782     3289.0   52.058824  34.430380   46.941176  37.615190   \n",
       "1         782     5642.0   46.941176  37.615190   44.470588  39.853165   \n",
       "2         782     5642.0   44.470588  39.853165   29.205882  53.797468   \n",
       "3         782     3077.0   29.205882  53.797468   28.235294  56.207595   \n",
       "4         782     3077.0   28.235294  56.207595   35.382353  67.483544   \n",
       "...       ...        ...         ...        ...         ...        ...   \n",
       "2193      782     5632.0  101.029412  16.612658  101.294118  16.612658   \n",
       "2194      782     5632.0  101.294118  16.612658   99.264706  27.372152   \n",
       "2195      914     6954.0  100.058824  26.597468  105.000000   0.000000   \n",
       "2196      782     5630.0  105.000000   0.000000   99.529412  24.617722   \n",
       "2197      782     6332.0   99.352941  24.617722  105.000000  42.607595   \n",
       "\n",
       "      type_id  result_id  bodypart_id  action_id  \n",
       "0           0          1            5          0  \n",
       "1          21          1            0          1  \n",
       "2           0          1            5          2  \n",
       "3          21          1            0          3  \n",
       "4           0          1            4          4  \n",
       "...       ...        ...          ...        ...  \n",
       "2193       21          1            0       2193  \n",
       "2194        1          0            5       2194  \n",
       "2195       18          1            1       2195  \n",
       "2196        5          1            5       2196  \n",
       "2197        0          0            0       2197  \n",
       "\n",
       "[2198 rows x 14 columns]"
      ]
     },
     "execution_count": 15,
     "metadata": {},
     "output_type": "execute_result"
    }
   ],
   "source": [
    "from socceraction.data.statsbomb import StatsBombLoader\n",
    "data_loader = StatsBombLoader(getter=\"remote\")#\"getter\": \"remote\"\n",
    "events = data_loader.events(game_id = 3795107, load_360 = True)\n",
    "import socceraction.spadl as spadl\n",
    "spadl.statsbomb.convert_to_actions(events, 782)"
   ]
  },
  {
   "cell_type": "code",
   "execution_count": 11,
   "id": "dbc7c658",
   "metadata": {},
   "outputs": [
    {
     "data": {
      "text/plain": [
       "0       782\n",
       "1       914\n",
       "2       914\n",
       "3       782\n",
       "4       782\n",
       "       ... \n",
       "3612    782\n",
       "3613    914\n",
       "3614    782\n",
       "3615    914\n",
       "3616    782\n",
       "Name: team_id, Length: 3617, dtype: int64"
      ]
     },
     "execution_count": 11,
     "metadata": {},
     "output_type": "execute_result"
    }
   ],
   "source": [
    "events[\"team_id\"]"
   ]
  },
  {
   "cell_type": "code",
   "execution_count": null,
   "id": "c551a37c",
   "metadata": {
    "tags": []
   },
   "outputs": [],
   "source": [
    "# Disable private API warnings\n",
    "import warnings\n",
    "from statsbombpy.api_client import NoAuthWarning\n",
    "warnings.filterwarnings(action=\"ignore\", category=NoAuthWarning, module='statsbombpy')"
   ]
  },
  {
   "cell_type": "code",
   "execution_count": null,
   "id": "faff3f25",
   "metadata": {
    "tags": []
   },
   "outputs": [],
   "source": [
    "from unxpass.databases import SQLiteDatabase\n",
    "from unxpass.visualization import plot_action"
   ]
  },
  {
   "cell_type": "markdown",
   "id": "5c45f6bd",
   "metadata": {},
   "source": [
    "## Configure leagues and seasons to download and convert\n",
    "\n",
    "First, we define the StatsBomb IDs of the competitions and seasons that should be downloaded."
   ]
  },
  {
   "cell_type": "code",
   "execution_count": null,
   "id": "36fc1dac",
   "metadata": {
    "tags": []
   },
   "outputs": [],
   "source": [
    "datasets = [\n",
    "    # Full EURO 2020 dataset\n",
    "    #{ \"getter\": \"remote\", \"competition_id\":  55, \"season_id\": 43 }\n",
    "    # BEL v ITA at EURO2020 (enable for a quick test run)\n",
    "    #{ \"getter\": \"remote\", \"competition_id\":  53, \"season_id\": 106, \"game_id\": 3835322 }\n",
    "    # You can also import a local dataset\n",
    "    { \"getter\": \"local\", \"root\": \"/home/lz80/un-xPass/notebooks/test_data\", \"competition_id\":  53, \"season_id\": 106, \"game_id\": 3847567}\n",
    "]"
   ]
  },
  {
   "cell_type": "markdown",
   "id": "529a2146",
   "metadata": {},
   "source": [
    "## Configure database\n",
    "\n",
    "Next, we define were the processed data should be stored."
   ]
  },
  {
   "cell_type": "code",
   "execution_count": null,
   "id": "0cde7c1b",
   "metadata": {
    "tags": []
   },
   "outputs": [],
   "source": [
    "DB_PATH = Path(\"../stores/weuros.sql\")\n",
    "db = SQLiteDatabase(DB_PATH)"
   ]
  },
  {
   "cell_type": "markdown",
   "id": "dfcacf5f",
   "metadata": {},
   "source": [
    "## Import data\n",
    "\n",
    "Now we can download, convert and save each dataset."
   ]
  },
  {
   "cell_type": "code",
   "execution_count": null,
   "id": "ea6e2b1c",
   "metadata": {
    "tags": []
   },
   "outputs": [],
   "source": [
    "for dataset in datasets:\n",
    "    db.import_data(**dataset)"
   ]
  },
  {
   "cell_type": "markdown",
   "id": "7e99b2ca",
   "metadata": {},
   "source": [
    "## Access data\n",
    "\n",
    "The SQLite database now provides an interface for conveniently accessing the data."
   ]
  },
  {
   "cell_type": "code",
   "execution_count": null,
   "id": "aa54b92e",
   "metadata": {
    "tags": []
   },
   "outputs": [],
   "source": [
    "# List of games included in the database\n",
    "df_games = db.games()\n",
    "df_games.head()"
   ]
  },
  {
   "cell_type": "code",
   "execution_count": null,
   "id": "d5a829b2",
   "metadata": {},
   "outputs": [],
   "source": [
    "# Dataframe with all SPADL actions + 360 snapshots for a particular game\n",
    "df_actions = db.actions(game_id=3835322)\n",
    "actions = df_actions.head()\n",
    "actions[actions[\"original_event_id\"] == '3eb6a801-b69f-4a2f-8a81-aa25a8466c80']\n",
    "actions"
   ]
  },
  {
   "cell_type": "code",
   "execution_count": null,
   "id": "ee12ad15",
   "metadata": {},
   "outputs": [],
   "source": [
    "sample = (3795107, 2)\n",
    "plot_action(df_actions.loc[sample])"
   ]
  },
  {
   "cell_type": "code",
   "execution_count": null,
   "id": "f0317c6d",
   "metadata": {
    "tags": []
   },
   "outputs": [],
   "source": [
    "db.close()"
   ]
  }
 ],
 "metadata": {
  "kernelspec": {
   "display_name": ".venv",
   "language": "python",
   "name": "python3"
  },
  "language_info": {
   "codemirror_mode": {
    "name": "ipython",
    "version": 3
   },
   "file_extension": ".py",
   "mimetype": "text/x-python",
   "name": "python",
   "nbconvert_exporter": "python",
   "pygments_lexer": "ipython3",
   "version": "3.10.12"
  },
  "toc": {
   "base_numbering": 1,
   "nav_menu": {},
   "number_sections": true,
   "sideBar": true,
   "skip_h1_title": false,
   "title_cell": "Table of Contents",
   "title_sidebar": "Contents",
   "toc_cell": false,
   "toc_position": {},
   "toc_section_display": true,
   "toc_window_display": true
  }
 },
 "nbformat": 4,
 "nbformat_minor": 5
}
