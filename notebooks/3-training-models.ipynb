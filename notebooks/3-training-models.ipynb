{
 "cells": [
  {
   "cell_type": "markdown",
   "id": "7ec948fe-5a7f-4803-a1a5-5f0e4ee9ca35",
   "metadata": {},
   "source": [
    "# Training models\n",
    "\n",
    "This notebook shows how to train a pass success model using XGBoost."
   ]
  },
  {
   "cell_type": "code",
   "execution_count": 3,
   "id": "bab7d6e1-e679-4e4b-a78f-1e3de6bc708a",
   "metadata": {},
   "outputs": [],
   "source": [
    "from pathlib import Path\n",
    "from functools import partial\n",
    "\n",
    "import matplotlib.pyplot as plt\n",
    "\n",
    "import mlflow\n",
    "from xgboost import XGBClassifier, XGBRanker"
   ]
  },
  {
   "cell_type": "code",
   "execution_count": 4,
   "id": "d0dc077b-ebcb-44f9-bcc5-28b137cbb46f",
   "metadata": {
    "tags": []
   },
   "outputs": [],
   "source": [
    "%load_ext autoreload\n",
    "%autoreload 2"
   ]
  },
  {
   "cell_type": "code",
   "execution_count": 5,
   "id": "11d7b3bb-0250-4edb-988f-14fb9dc5e306",
   "metadata": {
    "tags": []
   },
   "outputs": [],
   "source": [
    "from unxpass.databases import SQLiteDatabase\n",
    "from unxpass.datasets import PassesDataset\n",
    "from unxpass.components import pass_success, pass_selection_custom\n",
    "from unxpass.components.utils import log_model, load_model\n",
    "from unxpass.visualization import plot_action"
   ]
  },
  {
   "cell_type": "markdown",
   "id": "23c35fb0-0853-4f44-8c27-6ab864e8faf0",
   "metadata": {},
   "source": [
    "## Load dataset"
   ]
  },
  {
   "cell_type": "markdown",
   "id": "f69d6869-4c8a-488d-a090-7edf103d057f",
   "metadata": {},
   "source": [
    "We assume you've already generated a training and test with all required features and labels. If not, you can do this from the command line with:\n",
    "\n",
    "```\n",
    "unxpass create-dataset \\\n",
    "  sqlite://$(pwd)/stores/database.sqlite \\\n",
    "  $(pwd)/stores/datasets/default/train \\\n",
    "  $(pwd)/config/dataset/train.yaml\n",
    "```\n",
    "\n",
    "```\n",
    "unxpass create-dataset \\\n",
    "  sqlite://$(pwd)/stores/database.sqlite \\\n",
    "  $(pwd)/stores/datasets/default/test \\\n",
    "  $(pwd)/config/dataset/test.yaml\n",
    "```\n",
    "\n",
    "Alternatively, the notebook titled \"2-computing-and-storing-features\" explains how to do this using the API."
   ]
  },
  {
   "cell_type": "code",
   "execution_count": 10,
   "id": "7005bd4d-1597-4979-90ba-b89958b346d4",
   "metadata": {
    "tags": []
   },
   "outputs": [],
   "source": [
    "STORES_FP = Path(\"../stores\")\n",
    "\n",
    "db = SQLiteDatabase(STORES_FP / \"database.sqlite\")\n",
    "\n",
    "dataset_train = partial(PassesDataset, path=STORES_FP / \"datasets\" / \"euro2020\" / \"train\")\n",
    "dataset_test = partial(PassesDataset, path=STORES_FP / \"datasets\" / \"euro2020\" / \"test\")\n",
    "dataset_train_pass = partial(PassesDataset, path=STORES_FP / \"datasets_pass\" / \"euro2020\" / \"train\")\n",
    "dataset_test_pass = partial(PassesDataset, path=STORES_FP / \"datasets_pass\" / \"euro2020\" / \"test\")"
   ]
  },
  {
   "cell_type": "markdown",
   "id": "f06ec6ac-6e84-4fdc-8e7a-41a64defbd0f",
   "metadata": {
    "tags": []
   },
   "source": [
    "## Configure model\n",
    "\n",
    "Now we have to define the hyperparameters of the XGBoost model and the features to use. The features should be specified as a dictionary, where the key is the name of the feature generator and the values are the features that should be included (a generator can generate multiple features). The docstring of each feature generator provides details about the features it generates. Note that the suffix \"a0\" indicates that a feature is computed for the pass action, \"a1\" is the action before the pass, and so on."
   ]
  },
  {
   "cell_type": "code",
   "execution_count": 13,
   "id": "ecc13e93-e7b2-43da-ba38-5f9d5bfd7094",
   "metadata": {
    "tags": []
   },
   "outputs": [
    {
     "name": "stderr",
     "output_type": "stream",
     "text": [
      "2024/08/06 17:24:43 WARNING mlflow.utils.autologging_utils: You are using an unsupported version of xgboost. If you encounter errors during autologging, try upgrading / downgrading xgboost to a supported version, or try upgrading MLflow.\n"
     ]
    },
    {
     "data": {
      "text/html": [
       "<pre style=\"white-space:pre;overflow-x:auto;line-height:normal;font-family:Menlo,'DejaVu Sans Mono',consolas,'Courier New',monospace\"><span style=\"color: #7fbfbf; text-decoration-color: #7fbfbf\">[08/06/24 17:24:43] </span><span style=\"color: #000080; text-decoration-color: #000080\">INFO    </span> Loading dataset from ..<span style=\"color: #800080; text-decoration-color: #800080\">/stores/datasets/euro2020/</span><span style=\"color: #ff00ff; text-decoration-color: #ff00ff\">train</span>                 <a href=\"file:///home/lz80/un-xPass/.venv/lib/python3.10/site-packages/lightning_utilities/core/rank_zero.py\" target=\"_blank\"><span style=\"color: #7f7f7f; text-decoration-color: #7f7f7f\">rank_zero.py</span></a><span style=\"color: #7f7f7f; text-decoration-color: #7f7f7f\">:</span><a href=\"file:///home/lz80/un-xPass/.venv/lib/python3.10/site-packages/lightning_utilities/core/rank_zero.py#32\" target=\"_blank\"><span style=\"color: #7f7f7f; text-decoration-color: #7f7f7f\">32</span></a>\n",
       "</pre>\n"
      ],
      "text/plain": [
       "\u001b[2;36m[08/06/24 17:24:43]\u001b[0m\u001b[2;36m \u001b[0m\u001b[34mINFO    \u001b[0m Loading dataset from ..\u001b[35m/stores/datasets/euro2020/\u001b[0m\u001b[95mtrain\u001b[0m                 \u001b]8;id=348597;file:///home/lz80/un-xPass/.venv/lib/python3.10/site-packages/lightning_utilities/core/rank_zero.py\u001b\\\u001b[2mrank_zero.py\u001b[0m\u001b]8;;\u001b\\\u001b[2m:\u001b[0m\u001b]8;id=515337;file:///home/lz80/un-xPass/.venv/lib/python3.10/site-packages/lightning_utilities/core/rank_zero.py#32\u001b\\\u001b[2m32\u001b[0m\u001b]8;;\u001b\\\n"
      ]
     },
     "metadata": {},
     "output_type": "display_data"
    },
    {
     "data": {
      "text/html": [
       "<pre style=\"white-space:pre;overflow-x:auto;line-height:normal;font-family:Menlo,'DejaVu Sans Mono',consolas,'Courier New',monospace\"><span style=\"color: #7fbfbf; text-decoration-color: #7fbfbf\">                    </span><span style=\"color: #000080; text-decoration-color: #000080\">INFO    </span> Fitting model on train set                                             <a href=\"file:///home/lz80/un-xPass/.venv/lib/python3.10/site-packages/lightning_utilities/core/rank_zero.py\" target=\"_blank\"><span style=\"color: #7f7f7f; text-decoration-color: #7f7f7f\">rank_zero.py</span></a><span style=\"color: #7f7f7f; text-decoration-color: #7f7f7f\">:</span><a href=\"file:///home/lz80/un-xPass/.venv/lib/python3.10/site-packages/lightning_utilities/core/rank_zero.py#32\" target=\"_blank\"><span style=\"color: #7f7f7f; text-decoration-color: #7f7f7f\">32</span></a>\n",
       "</pre>\n"
      ],
      "text/plain": [
       "\u001b[2;36m                   \u001b[0m\u001b[2;36m \u001b[0m\u001b[34mINFO    \u001b[0m Fitting model on train set                                             \u001b]8;id=812156;file:///home/lz80/un-xPass/.venv/lib/python3.10/site-packages/lightning_utilities/core/rank_zero.py\u001b\\\u001b[2mrank_zero.py\u001b[0m\u001b]8;;\u001b\\\u001b[2m:\u001b[0m\u001b]8;id=478011;file:///home/lz80/un-xPass/.venv/lib/python3.10/site-packages/lightning_utilities/core/rank_zero.py#32\u001b\\\u001b[2m32\u001b[0m\u001b]8;;\u001b\\\n"
      ]
     },
     "metadata": {},
     "output_type": "display_data"
    },
    {
     "name": "stdout",
     "output_type": "stream",
     "text": [
      "[0]\tvalidation_0-auc:0.90251\n",
      "[1]\tvalidation_0-auc:0.91377\n",
      "[2]\tvalidation_0-auc:0.91306\n",
      "[3]\tvalidation_0-auc:0.92050\n",
      "[4]\tvalidation_0-auc:0.92302\n",
      "[5]\tvalidation_0-auc:0.92284\n",
      "[6]\tvalidation_0-auc:0.92559\n",
      "[7]\tvalidation_0-auc:0.92742\n",
      "[8]\tvalidation_0-auc:0.92903\n",
      "[9]\tvalidation_0-auc:0.92985\n",
      "[10]\tvalidation_0-auc:0.92957\n",
      "[11]\tvalidation_0-auc:0.93091\n",
      "[12]\tvalidation_0-auc:0.93115\n",
      "[13]\tvalidation_0-auc:0.93180\n",
      "[14]\tvalidation_0-auc:0.93127\n",
      "[15]\tvalidation_0-auc:0.93117\n",
      "[16]\tvalidation_0-auc:0.93135\n",
      "[17]\tvalidation_0-auc:0.93166\n",
      "[18]\tvalidation_0-auc:0.93160\n",
      "[19]\tvalidation_0-auc:0.93184\n",
      "[20]\tvalidation_0-auc:0.93179\n",
      "[21]\tvalidation_0-auc:0.93176\n",
      "[22]\tvalidation_0-auc:0.93155\n",
      "[23]\tvalidation_0-auc:0.93152\n",
      "[24]\tvalidation_0-auc:0.93184\n",
      "[25]\tvalidation_0-auc:0.93174\n",
      "[26]\tvalidation_0-auc:0.93161\n",
      "[27]\tvalidation_0-auc:0.93158\n",
      "[28]\tvalidation_0-auc:0.93172\n",
      "[29]\tvalidation_0-auc:0.93169\n",
      "[30]\tvalidation_0-auc:0.93167\n",
      "[31]\tvalidation_0-auc:0.93143\n",
      "[32]\tvalidation_0-auc:0.93132\n",
      "[33]\tvalidation_0-auc:0.93134\n",
      "[34]\tvalidation_0-auc:0.93132\n",
      "[35]\tvalidation_0-auc:0.93063\n",
      "[36]\tvalidation_0-auc:0.93075\n",
      "[37]\tvalidation_0-auc:0.93059\n",
      "[38]\tvalidation_0-auc:0.93060\n",
      "[39]\tvalidation_0-auc:0.93055\n",
      "[40]\tvalidation_0-auc:0.93053\n",
      "[41]\tvalidation_0-auc:0.93034\n",
      "[42]\tvalidation_0-auc:0.93039\n",
      "[43]\tvalidation_0-auc:0.93040\n",
      "[44]\tvalidation_0-auc:0.93031\n",
      "[45]\tvalidation_0-auc:0.93030\n",
      "[46]\tvalidation_0-auc:0.93030\n",
      "[47]\tvalidation_0-auc:0.93034\n",
      "[48]\tvalidation_0-auc:0.93029\n",
      "[49]\tvalidation_0-auc:0.93021\n",
      "[50]\tvalidation_0-auc:0.92985\n",
      "[51]\tvalidation_0-auc:0.92949\n",
      "[52]\tvalidation_0-auc:0.92957\n",
      "[53]\tvalidation_0-auc:0.92944\n",
      "[54]\tvalidation_0-auc:0.92943\n",
      "[55]\tvalidation_0-auc:0.92940\n",
      "[56]\tvalidation_0-auc:0.92943\n",
      "[57]\tvalidation_0-auc:0.92952\n",
      "[58]\tvalidation_0-auc:0.92936\n",
      "[59]\tvalidation_0-auc:0.92947\n",
      "[60]\tvalidation_0-auc:0.92942\n",
      "[61]\tvalidation_0-auc:0.92919\n",
      "[62]\tvalidation_0-auc:0.92906\n",
      "[63]\tvalidation_0-auc:0.92895\n",
      "[64]\tvalidation_0-auc:0.92897\n",
      "[65]\tvalidation_0-auc:0.92905\n",
      "[66]\tvalidation_0-auc:0.92898\n",
      "[67]\tvalidation_0-auc:0.92870\n",
      "[68]\tvalidation_0-auc:0.92856\n",
      "[69]\tvalidation_0-auc:0.92846\n",
      "[70]\tvalidation_0-auc:0.92825\n",
      "[71]\tvalidation_0-auc:0.92817\n",
      "[72]\tvalidation_0-auc:0.92804\n",
      "[73]\tvalidation_0-auc:0.92805\n",
      "[74]\tvalidation_0-auc:0.92790\n",
      "[75]\tvalidation_0-auc:0.92783\n",
      "[76]\tvalidation_0-auc:0.92803\n",
      "[77]\tvalidation_0-auc:0.92792\n",
      "[78]\tvalidation_0-auc:0.92798\n",
      "[79]\tvalidation_0-auc:0.92786\n",
      "[80]\tvalidation_0-auc:0.92756\n",
      "[81]\tvalidation_0-auc:0.92775\n",
      "[82]\tvalidation_0-auc:0.92779\n",
      "[83]\tvalidation_0-auc:0.92761\n",
      "[84]\tvalidation_0-auc:0.92782\n",
      "[85]\tvalidation_0-auc:0.92761\n",
      "[86]\tvalidation_0-auc:0.92752\n",
      "[87]\tvalidation_0-auc:0.92749\n",
      "[88]\tvalidation_0-auc:0.92724\n",
      "[89]\tvalidation_0-auc:0.92712\n",
      "[90]\tvalidation_0-auc:0.92694\n",
      "[91]\tvalidation_0-auc:0.92683\n",
      "[92]\tvalidation_0-auc:0.92666\n",
      "[93]\tvalidation_0-auc:0.92621\n",
      "[94]\tvalidation_0-auc:0.92607\n",
      "[95]\tvalidation_0-auc:0.92591\n",
      "[96]\tvalidation_0-auc:0.92586\n",
      "[97]\tvalidation_0-auc:0.92572\n",
      "[98]\tvalidation_0-auc:0.92568\n",
      "[99]\tvalidation_0-auc:0.92554\n"
     ]
    }
   ],
   "source": [
    "model = pass_success.XGBoostComponent(\n",
    "    model=XGBClassifier(\n",
    "        objective=\"binary:logistic\", \n",
    "        eval_metric=\"auc\"\n",
    "        # you probably want to do some hyperparameter tuning here to get a good model\n",
    "    ),\n",
    "    features={\n",
    "        'startpolar': [\n",
    "            'start_dist_to_goal_a0',\n",
    "            'start_angle_to_goal_a0'\n",
    "        ],\n",
    "        'relative_startlocation': [\n",
    "            'start_dist_goalline_a0',\n",
    "            'start_dist_sideline_a0'\n",
    "        ],\n",
    "        'endpolar': [\n",
    "            'end_dist_to_goal_a0',\n",
    "            'end_angle_to_goal_a0'\n",
    "        ],\n",
    "        'relative_endlocation': [\n",
    "            'end_dist_goalline_a0',\n",
    "            'end_dist_sideline_a0'\n",
    "        ],\n",
    "        'movement': [\n",
    "            'movement_a0',\n",
    "            'dx_a0',\n",
    "            'dy_a0'\n",
    "        ],\n",
    "        'angle': [\n",
    "            'angle_a0'\n",
    "        ],\n",
    "        'ball_height_onehot': [\n",
    "            'ball_height_ground_a0',\n",
    "            'ball_height_low_a0',\n",
    "            'ball_height_high_a0'\n",
    "        ],\n",
    "        'under_pressure': [\n",
    "            'under_pressure_a0'\n",
    "        ],\n",
    "        'dist_defender': [\n",
    "            'dist_defender_start_a0',\n",
    "            'dist_defender_end_a0',\n",
    "            'dist_defender_action_a0'\n",
    "        ],\n",
    "        'nb_opp_in_path': [\n",
    "            'nb_opp_in_path_a0'\n",
    "        ]\n",
    "    }, \n",
    ")\n",
    "model.train(dataset_train)"
   ]
  },
  {
   "cell_type": "code",
   "execution_count": 14,
   "id": "237953e9",
   "metadata": {},
   "outputs": [
    {
     "name": "stdout",
     "output_type": "stream",
     "text": [
      "Model saved as runs:/f977aaf2f5a0497cb51f5e730ae64609/component\n"
     ]
    }
   ],
   "source": [
    "# You can now log the model in the MLFflow registry\n",
    "mlflow.set_experiment(experiment_name=\"pass_success/xgb\")\n",
    "modelinfo = log_model(model, artifact_path=\"component\")\n",
    "print(f\"Model saved as {modelinfo.model_uri}\")\n",
    "model = load_model(modelinfo.model_uri)#runs:/988246f857f54c87ba8c2ac33555b4cb/component"
   ]
  },
  {
   "cell_type": "markdown",
   "id": "391f6e21-5572-43f4-b7ef-b9b0d8890b46",
   "metadata": {},
   "source": [
    "## Train and test model"
   ]
  },
  {
   "cell_type": "code",
   "execution_count": null,
   "id": "633b17e4-9b0b-4c89-849c-8d41f6c2b24d",
   "metadata": {
    "tags": []
   },
   "outputs": [],
   "source": [
    "model.train(dataset_train)"
   ]
  },
  {
   "cell_type": "code",
   "execution_count": 1,
   "id": "cec0a60e",
   "metadata": {},
   "outputs": [
    {
     "name": "stderr",
     "output_type": "stream",
     "text": [
      "2024/08/05 16:50:11 WARNING mlflow.utils.autologging_utils: You are using an unsupported version of xgboost. If you encounter errors during autologging, try upgrading / downgrading xgboost to a supported version, or try upgrading MLflow.\n"
     ]
    },
    {
     "data": {
      "text/html": [
       "<pre style=\"white-space:pre;overflow-x:auto;line-height:normal;font-family:Menlo,'DejaVu Sans Mono',consolas,'Courier New',monospace\"><span style=\"color: #7fbfbf; text-decoration-color: #7fbfbf\">[08/05/24 16:50:11] </span><span style=\"color: #000080; text-decoration-color: #000080\">INFO    </span> Loading dataset from ..<span style=\"color: #800080; text-decoration-color: #800080\">/stores/datasets_pass/euro2020/</span><span style=\"color: #ff00ff; text-decoration-color: #ff00ff\">train</span>            <a href=\"file:///home/lz80/un-xPass/.venv/lib/python3.10/site-packages/lightning_utilities/core/rank_zero.py\" target=\"_blank\"><span style=\"color: #7f7f7f; text-decoration-color: #7f7f7f\">rank_zero.py</span></a><span style=\"color: #7f7f7f; text-decoration-color: #7f7f7f\">:</span><a href=\"file:///home/lz80/un-xPass/.venv/lib/python3.10/site-packages/lightning_utilities/core/rank_zero.py#32\" target=\"_blank\"><span style=\"color: #7f7f7f; text-decoration-color: #7f7f7f\">32</span></a>\n",
       "</pre>\n"
      ],
      "text/plain": [
       "\u001b[2;36m[08/05/24 16:50:11]\u001b[0m\u001b[2;36m \u001b[0m\u001b[34mINFO    \u001b[0m Loading dataset from ..\u001b[35m/stores/datasets_pass/euro2020/\u001b[0m\u001b[95mtrain\u001b[0m            \u001b]8;id=546019;file:///home/lz80/un-xPass/.venv/lib/python3.10/site-packages/lightning_utilities/core/rank_zero.py\u001b\\\u001b[2mrank_zero.py\u001b[0m\u001b]8;;\u001b\\\u001b[2m:\u001b[0m\u001b]8;id=967744;file:///home/lz80/un-xPass/.venv/lib/python3.10/site-packages/lightning_utilities/core/rank_zero.py#32\u001b\\\u001b[2m32\u001b[0m\u001b]8;;\u001b\\\n"
      ]
     },
     "metadata": {},
     "output_type": "display_data"
    },
    {
     "data": {
      "text/html": [
       "<pre style=\"white-space:pre;overflow-x:auto;line-height:normal;font-family:Menlo,'DejaVu Sans Mono',consolas,'Courier New',monospace\"><span style=\"color: #7fbfbf; text-decoration-color: #7fbfbf\">[08/05/24 16:50:12] </span><span style=\"color: #000080; text-decoration-color: #000080\">INFO    </span> Fitting model on train set                                             <a href=\"file:///home/lz80/un-xPass/.venv/lib/python3.10/site-packages/lightning_utilities/core/rank_zero.py\" target=\"_blank\"><span style=\"color: #7f7f7f; text-decoration-color: #7f7f7f\">rank_zero.py</span></a><span style=\"color: #7f7f7f; text-decoration-color: #7f7f7f\">:</span><a href=\"file:///home/lz80/un-xPass/.venv/lib/python3.10/site-packages/lightning_utilities/core/rank_zero.py#32\" target=\"_blank\"><span style=\"color: #7f7f7f; text-decoration-color: #7f7f7f\">32</span></a>\n",
       "</pre>\n"
      ],
      "text/plain": [
       "\u001b[2;36m[08/05/24 16:50:12]\u001b[0m\u001b[2;36m \u001b[0m\u001b[34mINFO    \u001b[0m Fitting model on train set                                             \u001b]8;id=863595;file:///home/lz80/un-xPass/.venv/lib/python3.10/site-packages/lightning_utilities/core/rank_zero.py\u001b\\\u001b[2mrank_zero.py\u001b[0m\u001b]8;;\u001b\\\u001b[2m:\u001b[0m\u001b]8;id=758457;file:///home/lz80/un-xPass/.venv/lib/python3.10/site-packages/lightning_utilities/core/rank_zero.py#32\u001b\\\u001b[2m32\u001b[0m\u001b]8;;\u001b\\\n"
      ]
     },
     "metadata": {},
     "output_type": "display_data"
    },
    {
     "name": "stdout",
     "output_type": "stream",
     "text": [
      "[0]\tvalidation_0-auc:0.78582\n",
      "[1]\tvalidation_0-auc:0.79159\n",
      "[2]\tvalidation_0-auc:0.79438\n",
      "[3]\tvalidation_0-auc:0.79539\n",
      "[4]\tvalidation_0-auc:0.79643\n",
      "[5]\tvalidation_0-auc:0.79779\n",
      "[6]\tvalidation_0-auc:0.79874\n",
      "[7]\tvalidation_0-auc:0.80001\n",
      "[8]\tvalidation_0-auc:0.80047\n",
      "[9]\tvalidation_0-auc:0.80132\n",
      "[10]\tvalidation_0-auc:0.80181\n",
      "[11]\tvalidation_0-auc:0.80237\n",
      "[12]\tvalidation_0-auc:0.80330\n",
      "[13]\tvalidation_0-auc:0.80357\n",
      "[14]\tvalidation_0-auc:0.80425\n",
      "[15]\tvalidation_0-auc:0.80477\n",
      "[16]\tvalidation_0-auc:0.80477\n",
      "[17]\tvalidation_0-auc:0.80520\n",
      "[18]\tvalidation_0-auc:0.80523\n",
      "[19]\tvalidation_0-auc:0.80535\n",
      "[20]\tvalidation_0-auc:0.80560\n",
      "[21]\tvalidation_0-auc:0.80568\n",
      "[22]\tvalidation_0-auc:0.80574\n",
      "[23]\tvalidation_0-auc:0.80569\n",
      "[24]\tvalidation_0-auc:0.80565\n",
      "[25]\tvalidation_0-auc:0.80560\n",
      "[26]\tvalidation_0-auc:0.80562\n",
      "[27]\tvalidation_0-auc:0.80560\n",
      "[28]\tvalidation_0-auc:0.80573\n",
      "[29]\tvalidation_0-auc:0.80583\n",
      "[30]\tvalidation_0-auc:0.80582\n",
      "[31]\tvalidation_0-auc:0.80575\n",
      "[32]\tvalidation_0-auc:0.80588\n",
      "[33]\tvalidation_0-auc:0.80586\n",
      "[34]\tvalidation_0-auc:0.80580\n",
      "[35]\tvalidation_0-auc:0.80570\n",
      "[36]\tvalidation_0-auc:0.80568\n",
      "[37]\tvalidation_0-auc:0.80567\n",
      "[38]\tvalidation_0-auc:0.80561\n",
      "[39]\tvalidation_0-auc:0.80554\n",
      "[40]\tvalidation_0-auc:0.80560\n",
      "[41]\tvalidation_0-auc:0.80562\n",
      "[42]\tvalidation_0-auc:0.80561\n",
      "[43]\tvalidation_0-auc:0.80558\n",
      "[44]\tvalidation_0-auc:0.80566\n",
      "[45]\tvalidation_0-auc:0.80559\n",
      "[46]\tvalidation_0-auc:0.80562\n",
      "[47]\tvalidation_0-auc:0.80536\n",
      "[48]\tvalidation_0-auc:0.80525\n",
      "[49]\tvalidation_0-auc:0.80525\n",
      "[50]\tvalidation_0-auc:0.80519\n",
      "[51]\tvalidation_0-auc:0.80520\n",
      "[52]\tvalidation_0-auc:0.80505\n",
      "[53]\tvalidation_0-auc:0.80514\n",
      "[54]\tvalidation_0-auc:0.80509\n",
      "[55]\tvalidation_0-auc:0.80506\n",
      "[56]\tvalidation_0-auc:0.80504\n",
      "[57]\tvalidation_0-auc:0.80497\n",
      "[58]\tvalidation_0-auc:0.80492\n",
      "[59]\tvalidation_0-auc:0.80502\n",
      "[60]\tvalidation_0-auc:0.80538\n",
      "[61]\tvalidation_0-auc:0.80537\n",
      "[62]\tvalidation_0-auc:0.80531\n",
      "[63]\tvalidation_0-auc:0.80527\n",
      "[64]\tvalidation_0-auc:0.80532\n",
      "[65]\tvalidation_0-auc:0.80531\n",
      "[66]\tvalidation_0-auc:0.80523\n",
      "[67]\tvalidation_0-auc:0.80519\n",
      "[68]\tvalidation_0-auc:0.80517\n",
      "[69]\tvalidation_0-auc:0.80508\n",
      "[70]\tvalidation_0-auc:0.80499\n",
      "[71]\tvalidation_0-auc:0.80493\n",
      "[72]\tvalidation_0-auc:0.80485\n",
      "[73]\tvalidation_0-auc:0.80492\n",
      "[74]\tvalidation_0-auc:0.80493\n",
      "[75]\tvalidation_0-auc:0.80491\n",
      "[76]\tvalidation_0-auc:0.80486\n",
      "[77]\tvalidation_0-auc:0.80489\n",
      "[78]\tvalidation_0-auc:0.80496\n",
      "[79]\tvalidation_0-auc:0.80509\n",
      "[80]\tvalidation_0-auc:0.80511\n",
      "[81]\tvalidation_0-auc:0.80511\n",
      "[82]\tvalidation_0-auc:0.80514\n",
      "[83]\tvalidation_0-auc:0.80508\n",
      "[84]\tvalidation_0-auc:0.80503\n",
      "[85]\tvalidation_0-auc:0.80502\n",
      "[86]\tvalidation_0-auc:0.80491\n",
      "[87]\tvalidation_0-auc:0.80491\n",
      "[88]\tvalidation_0-auc:0.80481\n",
      "[89]\tvalidation_0-auc:0.80475\n",
      "[90]\tvalidation_0-auc:0.80464\n",
      "[91]\tvalidation_0-auc:0.80458\n",
      "[92]\tvalidation_0-auc:0.80458\n",
      "[93]\tvalidation_0-auc:0.80456\n",
      "[94]\tvalidation_0-auc:0.80453\n",
      "[95]\tvalidation_0-auc:0.80448\n",
      "[96]\tvalidation_0-auc:0.80451\n",
      "[97]\tvalidation_0-auc:0.80425\n",
      "[98]\tvalidation_0-auc:0.80420\n",
      "[99]\tvalidation_0-auc:0.80415\n"
     ]
    },
    {
     "name": "stderr",
     "output_type": "stream",
     "text": [
      "2024/08/05 16:50:17 WARNING mlflow.utils.autologging_utils: Encountered unexpected error during xgboost autologging: Could not find experiment with ID 0\n"
     ]
    }
   ],
   "source": [
    "from pathlib import Path\n",
    "from functools import partial\n",
    "\n",
    "import matplotlib.pyplot as plt\n",
    "\n",
    "import mlflow\n",
    "from xgboost import XGBClassifier, XGBRanker\n",
    "from unxpass.databases import SQLiteDatabase\n",
    "from unxpass.datasets import PassesDataset\n",
    "from unxpass.components import pass_success, pass_selection_custom\n",
    "from unxpass.components.utils import log_model, load_model\n",
    "from unxpass.visualization import plot_action\n",
    "STORES_FP = Path(\"../stores\")\n",
    "\n",
    "db = SQLiteDatabase(STORES_FP / \"database.sqlite\")\n",
    "\n",
    "dataset_train = partial(PassesDataset, path=STORES_FP / \"datasets\" / \"default\" / \"train\")\n",
    "dataset_test = partial(PassesDataset, path=STORES_FP / \"datasets\" / \"default\" / \"test\")\n",
    "dataset_train_pass = partial(PassesDataset, path=STORES_FP / \"datasets_pass\" / \"euro2020\" / \"train\")\n",
    "dataset_test_pass = partial(PassesDataset, path=STORES_FP / \"datasets_pass\" / \"euro2020\" / \"test\")\n",
    "model = pass_selection_custom.XGBoostComponent(\n",
    "    model = XGBClassifier(eval_metric =  \"auc\"),\n",
    "    features = {\n",
    "    'pass_options':\n",
    "    ['origin_x','origin_y', 'destination_x', 'destination_y',\n",
    "      'distance','angle', 'origin_angle_to_goal', 'destination_angle_to_goal','pass_distance_defender']\n",
    "})\n",
    "model.train(dataset_train_pass)"
   ]
  },
  {
   "cell_type": "code",
   "execution_count": 2,
   "id": "8de288c7-ddf5-4607-82f3-6bbb1f1b0b74",
   "metadata": {
    "tags": []
   },
   "outputs": [
    {
     "name": "stdout",
     "output_type": "stream",
     "text": [
      "Model saved as runs:/5a13feeb1f8b45078e40aaa944b17979/component\n"
     ]
    }
   ],
   "source": [
    "# You can now log the model in the MLFflow registry\n",
    "mlflow.set_experiment(experiment_name=\"pass_selection_custom/threesixty\")\n",
    "modelinfo = log_model(model, artifact_path=\"component\")\n",
    "print(f\"Model saved as {modelinfo.model_uri}\")\n",
    "model = load_model(modelinfo.model_uri)#runs:/988246f857f54c87ba8c2ac33555b4cb/component"
   ]
  },
  {
   "cell_type": "code",
   "execution_count": 3,
   "id": "f6a98e5d-9afe-4936-af18-d849186a5265",
   "metadata": {
    "tags": []
   },
   "outputs": [
    {
     "data": {
      "text/html": [
       "<pre style=\"white-space:pre;overflow-x:auto;line-height:normal;font-family:Menlo,'DejaVu Sans Mono',consolas,'Courier New',monospace\"><span style=\"color: #7fbfbf; text-decoration-color: #7fbfbf\">[08/05/24 16:50:19] </span><span style=\"color: #000080; text-decoration-color: #000080\">INFO    </span> Loading dataset from ..<span style=\"color: #800080; text-decoration-color: #800080\">/stores/datasets_pass/euro2020/</span><span style=\"color: #ff00ff; text-decoration-color: #ff00ff\">test</span>             <a href=\"file:///home/lz80/un-xPass/.venv/lib/python3.10/site-packages/lightning_utilities/core/rank_zero.py\" target=\"_blank\"><span style=\"color: #7f7f7f; text-decoration-color: #7f7f7f\">rank_zero.py</span></a><span style=\"color: #7f7f7f; text-decoration-color: #7f7f7f\">:</span><a href=\"file:///home/lz80/un-xPass/.venv/lib/python3.10/site-packages/lightning_utilities/core/rank_zero.py#32\" target=\"_blank\"><span style=\"color: #7f7f7f; text-decoration-color: #7f7f7f\">32</span></a>\n",
       "</pre>\n"
      ],
      "text/plain": [
       "\u001b[2;36m[08/05/24 16:50:19]\u001b[0m\u001b[2;36m \u001b[0m\u001b[34mINFO    \u001b[0m Loading dataset from ..\u001b[35m/stores/datasets_pass/euro2020/\u001b[0m\u001b[95mtest\u001b[0m             \u001b]8;id=527715;file:///home/lz80/un-xPass/.venv/lib/python3.10/site-packages/lightning_utilities/core/rank_zero.py\u001b\\\u001b[2mrank_zero.py\u001b[0m\u001b]8;;\u001b\\\u001b[2m:\u001b[0m\u001b]8;id=905613;file:///home/lz80/un-xPass/.venv/lib/python3.10/site-packages/lightning_utilities/core/rank_zero.py#32\u001b\\\u001b[2m32\u001b[0m\u001b]8;;\u001b\\\n"
      ]
     },
     "metadata": {},
     "output_type": "display_data"
    },
    {
     "data": {
      "text/plain": [
       "{'acc': 0.9401273885350319}"
      ]
     },
     "execution_count": 3,
     "metadata": {},
     "output_type": "execute_result"
    }
   ],
   "source": [
    "# Next, evaluate how the model performs on a test set\n",
    "model.test(dataset_test_pass)"
   ]
  },
  {
   "cell_type": "code",
   "execution_count": null,
   "id": "f10fcf81",
   "metadata": {},
   "outputs": [],
   "source": []
  },
  {
   "cell_type": "code",
   "execution_count": 4,
   "id": "c80f1582",
   "metadata": {},
   "outputs": [
    {
     "data": {
      "text/html": [
       "<pre style=\"white-space:pre;overflow-x:auto;line-height:normal;font-family:Menlo,'DejaVu Sans Mono',consolas,'Courier New',monospace\"><span style=\"color: #7fbfbf; text-decoration-color: #7fbfbf\">[08/05/24 16:50:23] </span><span style=\"color: #000080; text-decoration-color: #000080\">INFO    </span> Loading dataset from ..<span style=\"color: #800080; text-decoration-color: #800080\">/stores/datasets_pass/euro2020/</span><span style=\"color: #ff00ff; text-decoration-color: #ff00ff\">test</span>             <a href=\"file:///home/lz80/un-xPass/.venv/lib/python3.10/site-packages/lightning_utilities/core/rank_zero.py\" target=\"_blank\"><span style=\"color: #7f7f7f; text-decoration-color: #7f7f7f\">rank_zero.py</span></a><span style=\"color: #7f7f7f; text-decoration-color: #7f7f7f\">:</span><a href=\"file:///home/lz80/un-xPass/.venv/lib/python3.10/site-packages/lightning_utilities/core/rank_zero.py#32\" target=\"_blank\"><span style=\"color: #7f7f7f; text-decoration-color: #7f7f7f\">32</span></a>\n",
       "</pre>\n"
      ],
      "text/plain": [
       "\u001b[2;36m[08/05/24 16:50:23]\u001b[0m\u001b[2;36m \u001b[0m\u001b[34mINFO    \u001b[0m Loading dataset from ..\u001b[35m/stores/datasets_pass/euro2020/\u001b[0m\u001b[95mtest\u001b[0m             \u001b]8;id=960258;file:///home/lz80/un-xPass/.venv/lib/python3.10/site-packages/lightning_utilities/core/rank_zero.py\u001b\\\u001b[2mrank_zero.py\u001b[0m\u001b]8;;\u001b\\\u001b[2m:\u001b[0m\u001b]8;id=712410;file:///home/lz80/un-xPass/.venv/lib/python3.10/site-packages/lightning_utilities/core/rank_zero.py#32\u001b\\\u001b[2m32\u001b[0m\u001b]8;;\u001b\\\n"
      ]
     },
     "metadata": {},
     "output_type": "display_data"
    }
   ],
   "source": [
    "t_class = model.predict(dataset_test_pass)\n"
   ]
  },
  {
   "cell_type": "code",
   "execution_count": 5,
   "id": "ff40b3ab",
   "metadata": {},
   "outputs": [],
   "source": [
    "t_class.to_csv(\"classtest.csv\",index = True)"
   ]
  },
  {
   "cell_type": "markdown",
   "id": "d23f0697-e028-4dda-a29d-e040becd6236",
   "metadata": {
    "tags": []
   },
   "source": [
    "## Making predictions"
   ]
  },
  {
   "cell_type": "markdown",
   "id": "74b3b580-62c1-430d-ba6e-fc12d4c54a55",
   "metadata": {},
   "source": [
    "Once trained, the model can be used to estimate the success probability of each pass in a dataset."
   ]
  },
  {
   "cell_type": "code",
   "execution_count": null,
   "id": "47cd89d2-e940-4a26-9a07-d5311528a563",
   "metadata": {
    "tags": []
   },
   "outputs": [],
   "source": [
    "p_success = model.predict(dataset_test)\n",
    "p_success"
   ]
  },
  {
   "cell_type": "markdown",
   "id": "f265d283-4125-4986-9c11-ffd1d36b1961",
   "metadata": {},
   "source": [
    "Let's visualize what a pass what a high and a low success probability look like."
   ]
  },
  {
   "cell_type": "code",
   "execution_count": null,
   "id": "9bde15c4-c485-4108-bd12-916672764fdc",
   "metadata": {
    "tags": []
   },
   "outputs": [],
   "source": [
    "easy_pass, hard_pass = (3795506, 4), (3795506, 2791)\n",
    "df_actions = db.actions(game_id=3795506)\n",
    "\n",
    "fig, ax = plt.subplots(1, 2, figsize=(12,4))\n",
    "plot_action(df_actions.loc[easy_pass], ax=ax[0])\n",
    "ax[0].set_title(f\"P(success) = {p_success.loc[easy_pass]:.2f}\")\n",
    "plot_action(df_actions.loc[hard_pass], ax=ax[1])\n",
    "ax[1].set_title(f\"P(success) = {p_success.loc[hard_pass]:.2f}\")\n",
    "plt.show()"
   ]
  },
  {
   "cell_type": "markdown",
   "id": "957fafc9-ee64-4617-821d-f1d6635fc44e",
   "metadata": {},
   "source": [
    "Instead of predicting the success probability of the actual pass, we can also estimate the success probability of a pass towards every other location on the  pitch."
   ]
  },
  {
   "cell_type": "code",
   "execution_count": null,
   "id": "240d96c5-6caa-4090-bd69-9b54c49fc47e",
   "metadata": {
    "tags": []
   },
   "outputs": [],
   "source": [
    "p_success_surfaces = model.predict_surface(dataset_test, game_id=3795506, db=db, x_bins=52, y_bins=34)"
   ]
  },
  {
   "cell_type": "code",
   "execution_count": null,
   "id": "520d8222-6b4e-473b-ab7b-30081dbb8b11",
   "metadata": {
    "tags": []
   },
   "outputs": [],
   "source": [
    "df_actions = db.actions(game_id=3795506)\n",
    "sample = (3795506, 4)\n",
    "\n",
    "fig, ax = plt.subplots(1, 1, figsize=(6,4))\n",
    "plot_action(df_actions.loc[sample], surface=p_success_surfaces[f\"action_{sample[1]}\"], ax=ax, surface_kwargs={\"cmap\": \"magma\", \"vmin\": 0, \"vmax\": 1, \"interpolation\": \"bilinear\"})\n",
    "plt.show()"
   ]
  },
  {
   "cell_type": "code",
   "execution_count": null,
   "id": "a3dcaea3-ce62-48ed-b176-a10ac930c89b",
   "metadata": {
    "tags": []
   },
   "outputs": [],
   "source": [
    "db.close()"
   ]
  }
 ],
 "metadata": {
  "kernelspec": {
   "display_name": ".venv",
   "language": "python",
   "name": "python3"
  },
  "language_info": {
   "codemirror_mode": {
    "name": "ipython",
    "version": 3
   },
   "file_extension": ".py",
   "mimetype": "text/x-python",
   "name": "python",
   "nbconvert_exporter": "python",
   "pygments_lexer": "ipython3",
   "version": "3.10.12"
  }
 },
 "nbformat": 4,
 "nbformat_minor": 5
}
